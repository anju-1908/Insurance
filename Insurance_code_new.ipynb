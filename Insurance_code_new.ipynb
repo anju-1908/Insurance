{
 "cells": [
  {
   "cell_type": "code",
   "execution_count": 30,
   "metadata": {},
   "outputs": [],
   "source": [
    "import pandas as pd\n",
    "import numpy as np\n",
    "insurance=pd.read_csv('Insurance_new.csv')\n",
    "insurance['target'].value_counts(normalize=True)\n",
    "\n",
    "y=insurance['target']\n",
    "insurance.drop(columns=['target','id'],inplace=True)\n",
    "\n",
    "insurance=insurance.replace(to_replace=-1,value=np.nan)\n",
    "\n",
    "#insurance.isnull().sum()"
   ]
  },
  {
   "cell_type": "code",
   "execution_count": 31,
   "metadata": {},
   "outputs": [],
   "source": [
    "missing_values=pd.DataFrame({'Column Name':insurance.columns,'Missing Values Count':insurance.isnull().sum(),\n",
    "                            'Missing values percentage':insurance.isnull().sum()/insurance.shape[0]*100})\n",
    "\n",
    "cols_to_drop=list(missing_values[missing_values['Missing values percentage']>50].index)\n",
    "insurance.drop(columns=cols_to_drop,inplace=True)"
   ]
  },
  {
   "cell_type": "code",
   "execution_count": 32,
   "metadata": {},
   "outputs": [],
   "source": [
    "from sklearn.model_selection import train_test_split\n",
    "import warnings\n",
    "warnings.filterwarnings('ignore')\n",
    "\n",
    "x_train,x_test,y_train,y_test=train_test_split(insurance,y,test_size=0.3,random_state=42)\n"
   ]
  },
  {
   "cell_type": "code",
   "execution_count": 33,
   "metadata": {},
   "outputs": [],
   "source": [
    "for col in x_train.columns.values:\n",
    "    if x_train[col].isnull().sum()!=0:\n",
    "        if '_cat' in col:\n",
    "            x_train[col].fillna(x_train[col].mode()[0], inplace=True)\n",
    "            x_test[col].fillna(x_train[col].mode()[0], inplace=True)\n",
    "        elif x_train[col].dtype=='int64':\n",
    "            x_train[col].fillna(x_train[col].mode()[0], inplace=True)\n",
    "            x_test[col].fillna(x_train[col].mode()[0], inplace=True)\n",
    "        else:\n",
    "            x_train[col].fillna(x_train[col].mean(), inplace=True)\n",
    "            x_test[col].fillna(x_train[col].mean(), inplace=True)\n",
    "            \n",
    "            "
   ]
  },
  {
   "cell_type": "code",
   "execution_count": 49,
   "metadata": {},
   "outputs": [
    {
     "name": "stdout",
     "output_type": "stream",
     "text": [
      "[[14446     0]\n",
      " [  554     0]]\n",
      "Accuracy score: 0.9630666666666666\n",
      "Recall: 0.0\n",
      "Precision: 0.0\n",
      "F1 score: 0.0\n"
     ]
    }
   ],
   "source": [
    "from sklearn.linear_model import LogisticRegression\n",
    "from sklearn.metrics import confusion_matrix, accuracy_score,f1_score,precision_score,recall_score\n",
    "\n",
    "log_reg=LogisticRegression()\n",
    "log_reg.fit(x_train,y_train)\n",
    "\n",
    "y_log_reg_pred=log_reg.predict(x_test)\n",
    "\n",
    "print(confusion_matrix(y_test,y_log_reg_pred))\n",
    "print('Accuracy score:', accuracy_score(y_test,y_log_reg_pred))\n",
    "print('Recall:', recall_score(y_test,y_log_reg_pred))\n",
    "print('Precision:', precision_score(y_test,y_log_reg_pred))\n",
    "print('F1 score:', f1_score(y_test,y_log_reg_pred))"
   ]
  },
  {
   "cell_type": "code",
   "execution_count": 50,
   "metadata": {},
   "outputs": [],
   "source": [
    "from imblearn.over_sampling import SMOTE\n",
    "\n",
    "sm= SMOTE(random_state=2,sampling_strategy=0.5)\n",
    "x_train_res,y_train_res=sm.fit_sample(x_train,y_train)"
   ]
  },
  {
   "cell_type": "code",
   "execution_count": 51,
   "metadata": {},
   "outputs": [
    {
     "name": "stdout",
     "output_type": "stream",
     "text": [
      "[[14408    38]\n",
      " [  549     5]]\n",
      "Accuracy score: 0.9608666666666666\n",
      "Recall: 0.009025270758122744\n",
      "Precision: 0.11627906976744186\n",
      "F1 score: 0.01675041876046901\n"
     ]
    }
   ],
   "source": [
    "log_reg1=LogisticRegression()\n",
    "log_reg1.fit(x_train_res,y_train_res)\n",
    "\n",
    "y_pred=log_reg1.predict(x_test)\n",
    "\n",
    "print(confusion_matrix(y_test,y_pred))\n",
    "print('Accuracy score:', accuracy_score(y_test,y_pred))\n",
    "print('Recall:', recall_score(y_test,y_pred))\n",
    "print('Precision:', precision_score(y_test,y_pred))\n",
    "print('F1 score:', f1_score(y_test,y_pred))"
   ]
  },
  {
   "cell_type": "code",
   "execution_count": 54,
   "metadata": {},
   "outputs": [
    {
     "name": "stdout",
     "output_type": "stream",
     "text": [
      "[[13755   691]\n",
      " [  515    39]]\n",
      "Accuracy score: 0.9196\n",
      "Recall: 0.0703971119133574\n",
      "Precision: 0.05342465753424658\n",
      "F1 score: 0.06074766355140187\n"
     ]
    }
   ],
   "source": [
    "from sklearn.tree import DecisionTreeClassifier\n",
    "\n",
    "dt=DecisionTreeClassifier()\n",
    "\n",
    "dt.fit(x_train_res,y_train_res)\n",
    "\n",
    "y_dt_pred=dt.predict(x_test)\n",
    "\n",
    "print(confusion_matrix(y_test,y_dt_pred))\n",
    "print('Accuracy score:',accuracy_score(y_test,y_dt_pred))\n",
    "print('Recall:',recall_score(y_test,y_dt_pred))\n",
    "print('Precision:',precision_score(y_test,y_dt_pred))\n",
    "print('F1 score:', f1_score(y_test,y_dt_pred))"
   ]
  },
  {
   "cell_type": "code",
   "execution_count": 59,
   "metadata": {},
   "outputs": [
    {
     "name": "stdout",
     "output_type": "stream",
     "text": [
      "[[14442     4]\n",
      " [  553     1]]\n",
      "Accuracy score: 0.9628666666666666\n",
      "Recall: 0.0018050541516245488\n",
      "Precision: 0.2\n",
      "F1 score: 0.0035778175313059034\n"
     ]
    }
   ],
   "source": [
    "from sklearn.ensemble import RandomForestClassifier\n",
    "\n",
    "rf=RandomForestClassifier(random_state=54)\n",
    "\n",
    "rf.fit(x_train_res,y_train_res)\n",
    "\n",
    "y_rf_pred=rf.predict(x_test)\n",
    "\n",
    "print(confusion_matrix(y_test,y_rf_pred))\n",
    "print('Accuracy score:',accuracy_score(y_test,y_rf_pred))\n",
    "print('Recall:',recall_score(y_test,y_rf_pred))\n",
    "print('Precision:',precision_score(y_test,y_rf_pred))\n",
    "print('F1 score:', f1_score(y_test,y_rf_pred))"
   ]
  }
 ],
 "metadata": {
  "kernelspec": {
   "display_name": "Python 3",
   "language": "python",
   "name": "python3"
  },
  "language_info": {
   "codemirror_mode": {
    "name": "ipython",
    "version": 3
   },
   "file_extension": ".py",
   "mimetype": "text/x-python",
   "name": "python",
   "nbconvert_exporter": "python",
   "pygments_lexer": "ipython3",
   "version": "3.7.3"
  }
 },
 "nbformat": 4,
 "nbformat_minor": 2
}
